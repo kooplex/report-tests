{
 "cells": [
  {
   "cell_type": "code",
   "execution_count": 1,
   "id": "4ea52366",
   "metadata": {},
   "outputs": [],
   "source": [
    "from dash import Dash, dcc, html, Input, Output\n",
    "import plotly.express as px\n",
    "import dash_bootstrap_components as dbc\n",
    "\n",
    "import os\n"
   ]
  },
  {
   "cell_type": "code",
   "execution_count": 2,
   "id": "2701b36f-27ef-4a33-8f13-edd2dceafa19",
   "metadata": {},
   "outputs": [
    {
     "name": "stdout",
     "output_type": "stream",
     "text": [
      "You can access your report at k8plex-test.vo.elte.hu//notebook/test/visi-example-edu\n"
     ]
    }
   ],
   "source": [
    "#URL_PREFIX = os.path.join(\"/\", os.getenv(\"NB_TESTURL\"))\n",
    "URL_PREFIX = os.path.join(\"/\", os.getenv(\"REPORT_URL\"))\n",
    "#NB_TESTPORT = os.getenv(\"NB_TESTPORT\", 9000)\n",
    "NB_TESTPORT = os.getenv(\"REPORT_PORT\", 9000)\n",
    "HOSTNAME = os.getenv(\"HOSTNAME\")\n",
    "SERVER_NAME = os.getenv(\"OUTERHOST\", 'k8plex-test.vo.elte.hu')\n",
    "\n",
    "print(\"You can access your report at %s/%s\"%(SERVER_NAME, URL_PREFIX))\n",
    "\n",
    "external_stylesheets = ['https://codepen.io/chriddyp/pen/bWLwgP.css']\n",
    "app = Dash(__name__, external_stylesheets=[dbc.themes.SANDSTONE], url_base_pathname=URL_PREFIX+\"/\")"
   ]
  },
  {
   "cell_type": "code",
   "execution_count": 3,
   "id": "d42525fa",
   "metadata": {},
   "outputs": [
    {
     "name": "stdout",
     "output_type": "stream",
     "text": [
      "Dash is running on http://visi-example-edu:9000/notebook/test/visi-example-edu/\n",
      "\n",
      " * Serving Flask app \"__main__\" (lazy loading)\n",
      " * Environment: production\n",
      "\u001b[31m   WARNING: This is a development server. Do not use it in a production deployment.\u001b[0m\n",
      "\u001b[2m   Use a production WSGI server instead.\u001b[0m\n",
      " * Debug mode: off\n"
     ]
    },
    {
     "name": "stderr",
     "output_type": "stream",
     "text": [
      " * Running on http://visi-example-edu:9000/ (Press CTRL+C to quit)\n",
      "172.18.53.199 - - [15/Jul/2022 12:06:18] \"\u001b[37mGET /notebook/test/visi-example-edu/ HTTP/1.1\u001b[0m\" 200 -\n",
      "172.18.53.199 - - [15/Jul/2022 12:06:19] \"\u001b[37mGET /notebook/test/visi-example-edu/_dash-layout HTTP/1.1\u001b[0m\" 200 -\n",
      "172.18.53.199 - - [15/Jul/2022 12:06:19] \"\u001b[37mGET /notebook/test/visi-example-edu/_dash-dependencies HTTP/1.1\u001b[0m\" 200 -\n",
      "172.18.53.199 - - [15/Jul/2022 12:06:19] \"\u001b[36mGET /notebook/test/visi-example-edu/_dash-component-suites/dash/dcc/async-dropdown.js HTTP/1.1\u001b[0m\" 304 -\n",
      "172.18.53.199 - - [15/Jul/2022 12:06:19] \"\u001b[36mGET /notebook/test/visi-example-edu/_dash-component-suites/dash/dcc/async-graph.js HTTP/1.1\u001b[0m\" 304 -\n",
      "172.18.53.199 - - [15/Jul/2022 12:06:19] \"\u001b[36mGET /notebook/test/visi-example-edu/_dash-component-suites/dash/dcc/async-plotlyjs.js HTTP/1.1\u001b[0m\" 304 -\n",
      "172.18.53.199 - - [15/Jul/2022 12:06:20] \"\u001b[37mPOST /notebook/test/visi-example-edu/_dash-update-component HTTP/1.1\u001b[0m\" 200 -\n",
      "172.18.53.199 - - [15/Jul/2022 12:06:54] \"\u001b[37mGET /notebook/test/visi-example-edu/ HTTP/1.1\u001b[0m\" 200 -\n",
      "172.18.53.199 - - [15/Jul/2022 12:06:54] \"\u001b[37mGET /notebook/test/visi-example-edu/_dash-layout HTTP/1.1\u001b[0m\" 200 -\n",
      "172.18.53.199 - - [15/Jul/2022 12:06:54] \"\u001b[37mGET /notebook/test/visi-example-edu/_dash-dependencies HTTP/1.1\u001b[0m\" 200 -\n",
      "172.18.53.199 - - [15/Jul/2022 12:06:54] \"\u001b[36mGET /notebook/test/visi-example-edu/_dash-component-suites/dash/dcc/async-dropdown.js HTTP/1.1\u001b[0m\" 304 -\n",
      "172.18.53.199 - - [15/Jul/2022 12:06:54] \"\u001b[36mGET /notebook/test/visi-example-edu/_dash-component-suites/dash/dcc/async-graph.js HTTP/1.1\u001b[0m\" 304 -\n",
      "172.18.53.199 - - [15/Jul/2022 12:06:55] \"\u001b[36mGET /notebook/test/visi-example-edu/_dash-component-suites/dash/dcc/async-plotlyjs.js HTTP/1.1\u001b[0m\" 304 -\n",
      "172.18.53.199 - - [15/Jul/2022 12:06:55] \"\u001b[37mPOST /notebook/test/visi-example-edu/_dash-update-component HTTP/1.1\u001b[0m\" 200 -\n",
      "172.18.53.199 - - [15/Jul/2022 12:06:56] \"\u001b[37mGET /notebook/test/visi-example-edu/ HTTP/1.1\u001b[0m\" 200 -\n",
      "172.18.53.199 - - [15/Jul/2022 12:06:56] \"\u001b[37mGET /notebook/test/visi-example-edu/_dash-layout HTTP/1.1\u001b[0m\" 200 -\n",
      "172.18.53.199 - - [15/Jul/2022 12:06:56] \"\u001b[37mGET /notebook/test/visi-example-edu/_dash-dependencies HTTP/1.1\u001b[0m\" 200 -\n",
      "172.18.53.199 - - [15/Jul/2022 12:06:56] \"\u001b[36mGET /notebook/test/visi-example-edu/_dash-component-suites/dash/dcc/async-dropdown.js HTTP/1.1\u001b[0m\" 304 -\n",
      "172.18.53.199 - - [15/Jul/2022 12:06:56] \"\u001b[36mGET /notebook/test/visi-example-edu/_dash-component-suites/dash/dcc/async-graph.js HTTP/1.1\u001b[0m\" 304 -\n",
      "172.18.53.199 - - [15/Jul/2022 12:06:56] \"\u001b[36mGET /notebook/test/visi-example-edu/_dash-component-suites/dash/dcc/async-plotlyjs.js HTTP/1.1\u001b[0m\" 304 -\n",
      "172.18.53.199 - - [15/Jul/2022 12:06:56] \"\u001b[37mPOST /notebook/test/visi-example-edu/_dash-update-component HTTP/1.1\u001b[0m\" 200 -\n",
      "172.18.53.199 - - [15/Jul/2022 12:09:47] \"\u001b[37mGET /notebook/test/visi-example-edu/ HTTP/1.1\u001b[0m\" 200 -\n",
      "172.18.53.199 - - [15/Jul/2022 12:09:48] \"\u001b[37mGET /notebook/test/visi-example-edu/_dash-layout HTTP/1.1\u001b[0m\" 200 -\n",
      "172.18.53.199 - - [15/Jul/2022 12:09:48] \"\u001b[37mGET /notebook/test/visi-example-edu/_dash-dependencies HTTP/1.1\u001b[0m\" 200 -\n",
      "172.18.53.199 - - [15/Jul/2022 12:09:48] \"\u001b[36mGET /notebook/test/visi-example-edu/_dash-component-suites/dash/dcc/async-dropdown.js HTTP/1.1\u001b[0m\" 304 -\n",
      "172.18.53.199 - - [15/Jul/2022 12:09:48] \"\u001b[36mGET /notebook/test/visi-example-edu/_dash-component-suites/dash/dcc/async-graph.js HTTP/1.1\u001b[0m\" 304 -\n",
      "172.18.53.199 - - [15/Jul/2022 12:09:48] \"\u001b[36mGET /notebook/test/visi-example-edu/_dash-component-suites/dash/dcc/async-plotlyjs.js HTTP/1.1\u001b[0m\" 304 -\n",
      "172.18.53.199 - - [15/Jul/2022 12:09:48] \"\u001b[37mPOST /notebook/test/visi-example-edu/_dash-update-component HTTP/1.1\u001b[0m\" 200 -\n"
     ]
    }
   ],
   "source": [
    "app.layout = html.Div([\n",
    "    html.H4(\"Country's key performance analytics\"),\n",
    "    html.P(\"Select data on y-axis:\"),\n",
    "    dcc.Dropdown(\n",
    "        id='y-axis',\n",
    "        options=['lifeExp', 'pop', 'gdpPercap'],\n",
    "        value='gdpPercap'\n",
    "    ),\n",
    "    dcc.Graph(id=\"graph\"),\n",
    "])\n",
    "\n",
    "@app.callback(\n",
    "    Output(\"graph\", \"figure\"), \n",
    "    Input(\"y-axis\", \"value\"))\n",
    "def display_area(y):\n",
    "    df = px.data.gapminder() # replace with your own data source\n",
    "    countries = (\n",
    "        df.country.drop_duplicates()\n",
    "        .sample(n=10, random_state=42)\n",
    "    )\n",
    "    df = df[df.country.isin(countries)]\n",
    "\n",
    "    fig = px.area(\n",
    "        df, x=\"year\", y=y,\n",
    "        color=\"continent\", line_group=\"country\")\n",
    "    return fig\n",
    "\n",
    "app.run_server(debug=False, port=NB_TESTPORT, host=HOSTNAME)"
   ]
  }
 ],
 "metadata": {
  "kernelspec": {
   "display_name": "Python 3",
   "language": "python",
   "name": "python3"
  },
  "language_info": {
   "codemirror_mode": {
    "name": "ipython",
    "version": 3
   },
   "file_extension": ".py",
   "mimetype": "text/x-python",
   "name": "python",
   "nbconvert_exporter": "python",
   "pygments_lexer": "ipython3",
   "version": "3.8.8"
  }
 },
 "nbformat": 4,
 "nbformat_minor": 5
}
